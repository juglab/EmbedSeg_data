{
 "cells": [
  {
   "cell_type": "code",
   "execution_count": 1,
   "metadata": {},
   "outputs": [
    {
     "data": {
      "text/plain": [
       "<torch._C.Generator at 0x7f7b841ddcb0>"
      ]
     },
     "execution_count": 1,
     "metadata": {},
     "output_type": "execute_result"
    }
   ],
   "source": [
    "import torch\n",
    "import torch.nn.functional\n",
    "dtype = torch.cuda.FloatTensor\n",
    "dtype_long = torch.cuda.LongTensor\n",
    "import time\n",
    "import numpy as np\n",
    "torch.manual_seed(0)"
   ]
  },
  {
   "cell_type": "code",
   "execution_count": 2,
   "metadata": {},
   "outputs": [],
   "source": [
    "dim= 5 # Size of Image"
   ]
  },
  {
   "cell_type": "code",
   "execution_count": 3,
   "metadata": {},
   "outputs": [
    {
     "name": "stdout",
     "output_type": "stream",
     "text": [
      "image= tensor([[[[0.4963, 0.7682, 0.0885, 0.1320, 0.3074],\n",
      "          [0.6341, 0.4901, 0.8964, 0.4556, 0.6323],\n",
      "          [0.3489, 0.4017, 0.0223, 0.1689, 0.2939],\n",
      "          [0.5185, 0.6977, 0.8000, 0.1610, 0.2823],\n",
      "          [0.6816, 0.9152, 0.3971, 0.8742, 0.4194]],\n",
      "\n",
      "         [[0.5529, 0.9527, 0.0362, 0.1852, 0.3734],\n",
      "          [0.3051, 0.9320, 0.1759, 0.2698, 0.1507],\n",
      "          [0.0317, 0.2081, 0.9298, 0.7231, 0.7423],\n",
      "          [0.5263, 0.2437, 0.5846, 0.0332, 0.1387],\n",
      "          [0.2422, 0.8155, 0.7932, 0.2783, 0.4820]]]])\n"
     ]
    }
   ],
   "source": [
    "image = torch.rand(1, 2, dim, dim) #BCYX\n",
    "print(\"image=\", image)"
   ]
  },
  {
   "cell_type": "code",
   "execution_count": 4,
   "metadata": {},
   "outputs": [
    {
     "name": "stdout",
     "output_type": "stream",
     "text": [
      "xym shape is  torch.Size([1, 2, 5, 5])\n",
      "xym tensor([[[[0.0000, 0.0000, 0.0000, 0.0000, 0.0000],\n",
      "          [0.2500, 0.2500, 0.2500, 0.2500, 0.2500],\n",
      "          [0.5000, 0.5000, 0.5000, 0.5000, 0.5000],\n",
      "          [0.7500, 0.7500, 0.7500, 0.7500, 0.7500],\n",
      "          [1.0000, 1.0000, 1.0000, 1.0000, 1.0000]],\n",
      "\n",
      "         [[0.0000, 0.2500, 0.5000, 0.7500, 1.0000],\n",
      "          [0.0000, 0.2500, 0.5000, 0.7500, 1.0000],\n",
      "          [0.0000, 0.2500, 0.5000, 0.7500, 1.0000],\n",
      "          [0.0000, 0.2500, 0.5000, 0.7500, 1.0000],\n",
      "          [0.0000, 0.2500, 0.5000, 0.7500, 1.0000]]]])\n"
     ]
    }
   ],
   "source": [
    "xm = torch.linspace(0, 1, dim).view(\n",
    "            1, 1, -1).expand(1, dim, dim)\n",
    "ym = torch.linspace(0, 1, dim).view(\n",
    "            1, -1, 1).expand(1, dim, dim)\n",
    "xym = torch.cat((ym, xm), 0)\n",
    "xym.unsqueeze_(0)\n",
    "print(\"xym shape is \", xym.shape)\n",
    "print(\"xym\", xym)"
   ]
  },
  {
   "cell_type": "code",
   "execution_count": 5,
   "metadata": {},
   "outputs": [
    {
     "name": "stdout",
     "output_type": "stream",
     "text": [
      "result\n",
      " tensor([[[[0.4592, 0.6459, 0.0882, 0.1313, 0.2981],\n",
      "          [0.8109, 0.7043, 0.9646, 0.6765, 0.8096],\n",
      "          [0.8354, 0.8814, 0.5223, 0.6673, 0.7857],\n",
      "          [1.2266, 1.3529, 1.4140, 0.9097, 1.0250],\n",
      "          [1.5926, 1.7236, 1.3775, 1.7035, 1.3964]],\n",
      "\n",
      "         [[0.5027, 0.9910, 0.5361, 0.9331, 1.3570],\n",
      "          [0.2960, 0.9815, 0.6741, 1.0135, 1.1495],\n",
      "          [0.0317, 0.4552, 1.2305, 1.3688, 1.6306],\n",
      "          [0.4825, 0.4889, 1.0260, 0.7831, 1.1378],\n",
      "          [0.2376, 0.9226, 1.1602, 1.0213, 1.4478]]]])\n"
     ]
    }
   ],
   "source": [
    "result = xym + torch.tanh(image)\n",
    "print(\"result\\n\", result)"
   ]
  },
  {
   "cell_type": "markdown",
   "metadata": {},
   "source": [
    "### PYTORCH"
   ]
  },
  {
   "cell_type": "code",
   "execution_count": 6,
   "metadata": {},
   "outputs": [
    {
     "name": "stdout",
     "output_type": "stream",
     "text": [
      "interpolated predictions \n",
      " tensor([[[[0.0918, 0.6666, 0.3985, 0.7530, 0.0000],\n",
      "          [0.4436, 0.7493, 0.2684, 0.6944, 0.3076],\n",
      "          [0.2330, 0.2909, 0.0343, 0.0000, 0.0000],\n",
      "          [0.0298, 0.0000, 0.0000, 0.2842, 0.1694],\n",
      "          [0.0000, 0.0000, 0.0000, 0.0000, 0.0000]],\n",
      "\n",
      "         [[0.8089, 0.4844, 0.1421, 0.4990, 0.0000],\n",
      "          [0.3304, 0.3548, 0.3107, 0.4065, 0.1313],\n",
      "          [0.2469, 0.6389, 0.0583, 0.0000, 0.0000],\n",
      "          [0.0657, 0.0000, 0.0000, 0.1414, 0.1946],\n",
      "          [0.0000, 0.0000, 0.0000, 0.0000, 0.0000]]]])\n"
     ]
    }
   ],
   "source": [
    "result_corrected=result*2-1 # result_corrected is between -1 and 1\n",
    "predictions=torch.nn.functional.grid_sample(image, result_corrected.permute(0, 2, 3,1), align_corners=True)\n",
    "print(\"interpolated predictions \\n\", predictions)"
   ]
  },
  {
   "cell_type": "markdown",
   "metadata": {},
   "source": [
    "\n",
    "### SCIPY"
   ]
  },
  {
   "cell_type": "code",
   "execution_count": 7,
   "metadata": {},
   "outputs": [],
   "source": [
    "from scipy import interpolate\n",
    "f = interpolate.interp2d(np.linspace(0, 1, dim), np.linspace(0, 1, dim), image[0, 0, ...].cpu().detach().numpy(), kind='linear', fill_value=0)\n",
    "g = interpolate.interp2d(np.linspace(0, 1, dim), np.linspace(0, 1, dim), image[0, 1, ...].cpu().detach().numpy(), kind='linear', fill_value=0)\n",
    "scipy_predictions= np.zeros((2, dim, dim))\n",
    "for i in range(result.shape[2]):\n",
    "    for j in range(result.shape[3]):\n",
    "        scipy_predictions[0, i, j]= f(result[0, 0, i, j], result[0, 1, i, j])\n",
    "        scipy_predictions[1, i, j]= g(result[0, 0, i, j], result[0, 1, i, j])"
   ]
  },
  {
   "cell_type": "code",
   "execution_count": 8,
   "metadata": {},
   "outputs": [
    {
     "name": "stdout",
     "output_type": "stream",
     "text": [
      "interpolated scipy predictions \n",
      " [[[0.09182841 0.66657711 0.39851493 0.75299857 0.        ]\n",
      "  [0.44358824 0.74931196 0.26844675 0.         0.        ]\n",
      "  [0.23303955 0.29086799 0.         0.         0.        ]\n",
      "  [0.         0.         0.         0.28422691 0.        ]\n",
      "  [0.         0.         0.         0.         0.        ]]\n",
      "\n",
      " [[0.80887856 0.48441457 0.1420741  0.499009   0.        ]\n",
      "  [0.33037722 0.35477801 0.31068349 0.         0.        ]\n",
      "  [0.24692629 0.63890268 0.         0.         0.        ]\n",
      "  [0.         0.         0.         0.14136588 0.        ]\n",
      "  [0.         0.         0.         0.         0.        ]]]\n"
     ]
    }
   ],
   "source": [
    "print(\"interpolated scipy predictions \\n\", scipy_predictions)"
   ]
  },
  {
   "cell_type": "markdown",
   "metadata": {},
   "source": [
    "### NUMPY "
   ]
  },
  {
   "cell_type": "code",
   "execution_count": 10,
   "metadata": {},
   "outputs": [
    {
     "name": "stdout",
     "output_type": "stream",
     "text": [
      "[[[ 5.2344e-01  2.3218e-01  1.9592e-01  4.6167e-01 -4.8315e-01]\n",
      "  [ 7.3486e-01  2.6099e-01  6.3818e-01 -6.2609e-04  8.2031e-02]\n",
      "  [ 6.0254e-01  6.6211e-01 -1.0712e-02 -1.7136e-02  3.4595e-01]\n",
      "  [-4.6948e-01 -7.3145e-01  0.0000e+00  2.8418e-01  0.0000e+00]\n",
      "  [ 5.5371e-01 -1.3164e+00  0.0000e+00  0.0000e+00  0.0000e+00]]\n",
      "\n",
      " [[ 2.6001e-01  1.1774e-01  1.0620e-01  2.2778e-01  8.4473e-01]\n",
      "  [ 4.1553e-01  1.6516e-01  2.7832e-01 -3.2532e-02  2.0532e-01]\n",
      "  [ 4.3091e-01  7.3535e-01 -5.5664e-01 -8.9062e-01  8.6572e-01]\n",
      "  [-2.0218e-02 -3.1494e-02  0.0000e+00  1.4136e-01  0.0000e+00]\n",
      "  [ 1.3584e+00  5.8984e-01  0.0000e+00  0.0000e+00  0.0000e+00]]]\n"
     ]
    }
   ],
   "source": [
    "numpy_predictions=np.zeros((2, dim, dim))\n",
    "for y in range(result.shape[2]):\n",
    "    for x in range(result.shape[3]):\n",
    "\n",
    "        y_l=result[0, 0, y, x] // (1/(dim-1)) # 0, 1\n",
    "        x_l=result[0, 1, y, x] // (1/(dim-1)) # 0, 1\n",
    "        \n",
    "        y_u=y_l+1\n",
    "        x_u=x_l+1\n",
    "        \n",
    "        y0 = int(np.clip(y_l, 0, result.shape[2]-1))\n",
    "        y1 = int(np.clip(y_u, 0, result.shape[2]-1))\n",
    "        x0 = int(np.clip(x_l, 0, result.shape[3]-1))\n",
    "        x1 = int(np.clip(x_u, 0, result.shape[3]-1))\n",
    "        \n",
    "        \n",
    "        Ia = image[0, 0, y0, x0 ] # tl\n",
    "        Ib = image[0, 0, y1, x0 ] # bl\n",
    "        Ic = image[0, 0, y0, x1 ] # tr\n",
    "        Id = image[0, 0, y1, x1 ] # br\n",
    "\n",
    "        ys=result[0, 0, y, x] \n",
    "        xs=result[0, 1, y, x]\n",
    "        \n",
    "\n",
    "        a= np.array([y1*1/(dim-1)-ys, ys - 1/(dim-1)*y0])\n",
    "        b= np.array([[Ia, Ib], [Ic, Id]])\n",
    "        c= np.array([[x1*1/(dim-1)-xs],[xs-x0*1/(dim-1)]])\n",
    "\n",
    "        numpy_predictions[0, y, x]=1/(1/(dim-1)*1/(dim-1))*np.matmul(a, np.matmul(b, c))\n",
    "\n",
    "\n",
    "        Ia = image[0, 1, y0, x0 ]\n",
    "        Ib = image[0, 1, y1, x0 ]\n",
    "        Ic = image[0, 1, y0, x1 ]\n",
    "        Id = image[0, 1, y1, x1 ]\n",
    "\n",
    "        a= np.array([y1*1/(dim-1)-ys, ys - 1/(dim-1)*y0])\n",
    "        b= np.array([[Ia, Ib], [Ic, Id]])\n",
    "        c= np.array([[x1*1/(dim-1)-xs],[xs-x0*1/(dim-1)]])\n",
    "\n",
    "        numpy_predictions[1, y, x]=1/(1/(dim-1)*1/(dim-1))*np.matmul(a, np.matmul(b, c))\n",
    "        \n",
    "        \n",
    "print(numpy_predictions.astype(np.float16))"
   ]
  },
  {
   "cell_type": "code",
   "execution_count": 11,
   "metadata": {},
   "outputs": [
    {
     "name": "stdout",
     "output_type": "stream",
     "text": [
      "[[[0.09182841 0.66657711 0.39851493 0.75299857 0.        ]\n",
      "  [0.44358824 0.74931196 0.26844675 0.         0.        ]\n",
      "  [0.23303955 0.29086799 0.         0.         0.        ]\n",
      "  [0.         0.         0.         0.28422691 0.        ]\n",
      "  [0.         0.         0.         0.         0.        ]]\n",
      "\n",
      " [[0.80887856 0.48441457 0.1420741  0.499009   0.        ]\n",
      "  [0.33037722 0.35477801 0.31068349 0.         0.        ]\n",
      "  [0.24692629 0.63890268 0.         0.         0.        ]\n",
      "  [0.         0.         0.         0.14136588 0.        ]\n",
      "  [0.         0.         0.         0.         0.        ]]]\n"
     ]
    }
   ],
   "source": [
    "print(scipy_predictions)"
   ]
  },
  {
   "cell_type": "code",
   "execution_count": null,
   "metadata": {},
   "outputs": [],
   "source": []
  }
 ],
 "metadata": {
  "kernelspec": {
   "display_name": "pn2vPytorchEnv",
   "language": "python",
   "name": "pn2vpytorchenv"
  },
  "language_info": {
   "codemirror_mode": {
    "name": "ipython",
    "version": 3
   },
   "file_extension": ".py",
   "mimetype": "text/x-python",
   "name": "python",
   "nbconvert_exporter": "python",
   "pygments_lexer": "ipython3",
   "version": "3.7.0"
  }
 },
 "nbformat": 4,
 "nbformat_minor": 4
}
